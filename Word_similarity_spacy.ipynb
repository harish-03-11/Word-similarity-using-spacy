{
  "nbformat": 4,
  "nbformat_minor": 0,
  "metadata": {
    "colab": {
      "provenance": [],
      "authorship_tag": "ABX9TyN0INwq2Hh1KH7fBCsmr/uU",
      "include_colab_link": true
    },
    "kernelspec": {
      "name": "python3",
      "display_name": "Python 3"
    },
    "language_info": {
      "name": "python"
    }
  },
  "cells": [
    {
      "cell_type": "markdown",
      "metadata": {
        "id": "view-in-github",
        "colab_type": "text"
      },
      "source": [
        "<a href=\"https://colab.research.google.com/github/harish-03-11/Word-similarity-using-spacy/blob/main/Word_similarity_spacy.ipynb\" target=\"_parent\"><img src=\"https://colab.research.google.com/assets/colab-badge.svg\" alt=\"Open In Colab\"/></a>"
      ]
    },
    {
      "cell_type": "code",
      "execution_count": 2,
      "metadata": {
        "id": "iDoU-S27vx5T"
      },
      "outputs": [],
      "source": [
        "import spacy"
      ]
    },
    {
      "cell_type": "code",
      "source": [
        "!python -m spacy download en_core_web_lg"
      ],
      "metadata": {
        "colab": {
          "base_uri": "https://localhost:8080/"
        },
        "id": "t8KnEt6b8mTT",
        "outputId": "e9a15519-2fc0-4ea5-ff7f-02aa3ab985a0"
      },
      "execution_count": 3,
      "outputs": [
        {
          "output_type": "stream",
          "name": "stdout",
          "text": [
            "Collecting en-core-web-lg==3.7.1\n",
            "  Downloading https://github.com/explosion/spacy-models/releases/download/en_core_web_lg-3.7.1/en_core_web_lg-3.7.1-py3-none-any.whl (587.7 MB)\n",
            "\u001b[2K     \u001b[90m━━━━━━━━━━━━━━━━━━━━━━━━━━━━━━━━━━━━━━━━\u001b[0m \u001b[32m587.7/587.7 MB\u001b[0m \u001b[31m3.0 MB/s\u001b[0m eta \u001b[36m0:00:00\u001b[0m\n",
            "\u001b[?25hRequirement already satisfied: spacy<3.8.0,>=3.7.2 in /usr/local/lib/python3.10/dist-packages (from en-core-web-lg==3.7.1) (3.7.6)\n",
            "Requirement already satisfied: spacy-legacy<3.1.0,>=3.0.11 in /usr/local/lib/python3.10/dist-packages (from spacy<3.8.0,>=3.7.2->en-core-web-lg==3.7.1) (3.0.12)\n",
            "Requirement already satisfied: spacy-loggers<2.0.0,>=1.0.0 in /usr/local/lib/python3.10/dist-packages (from spacy<3.8.0,>=3.7.2->en-core-web-lg==3.7.1) (1.0.5)\n",
            "Requirement already satisfied: murmurhash<1.1.0,>=0.28.0 in /usr/local/lib/python3.10/dist-packages (from spacy<3.8.0,>=3.7.2->en-core-web-lg==3.7.1) (1.0.10)\n",
            "Requirement already satisfied: cymem<2.1.0,>=2.0.2 in /usr/local/lib/python3.10/dist-packages (from spacy<3.8.0,>=3.7.2->en-core-web-lg==3.7.1) (2.0.8)\n",
            "Requirement already satisfied: preshed<3.1.0,>=3.0.2 in /usr/local/lib/python3.10/dist-packages (from spacy<3.8.0,>=3.7.2->en-core-web-lg==3.7.1) (3.0.9)\n",
            "Requirement already satisfied: thinc<8.3.0,>=8.2.2 in /usr/local/lib/python3.10/dist-packages (from spacy<3.8.0,>=3.7.2->en-core-web-lg==3.7.1) (8.2.5)\n",
            "Requirement already satisfied: wasabi<1.2.0,>=0.9.1 in /usr/local/lib/python3.10/dist-packages (from spacy<3.8.0,>=3.7.2->en-core-web-lg==3.7.1) (1.1.3)\n",
            "Requirement already satisfied: srsly<3.0.0,>=2.4.3 in /usr/local/lib/python3.10/dist-packages (from spacy<3.8.0,>=3.7.2->en-core-web-lg==3.7.1) (2.4.8)\n",
            "Requirement already satisfied: catalogue<2.1.0,>=2.0.6 in /usr/local/lib/python3.10/dist-packages (from spacy<3.8.0,>=3.7.2->en-core-web-lg==3.7.1) (2.0.10)\n",
            "Requirement already satisfied: weasel<0.5.0,>=0.1.0 in /usr/local/lib/python3.10/dist-packages (from spacy<3.8.0,>=3.7.2->en-core-web-lg==3.7.1) (0.4.1)\n",
            "Requirement already satisfied: typer<1.0.0,>=0.3.0 in /usr/local/lib/python3.10/dist-packages (from spacy<3.8.0,>=3.7.2->en-core-web-lg==3.7.1) (0.12.5)\n",
            "Requirement already satisfied: tqdm<5.0.0,>=4.38.0 in /usr/local/lib/python3.10/dist-packages (from spacy<3.8.0,>=3.7.2->en-core-web-lg==3.7.1) (4.66.5)\n",
            "Requirement already satisfied: requests<3.0.0,>=2.13.0 in /usr/local/lib/python3.10/dist-packages (from spacy<3.8.0,>=3.7.2->en-core-web-lg==3.7.1) (2.32.3)\n",
            "Requirement already satisfied: pydantic!=1.8,!=1.8.1,<3.0.0,>=1.7.4 in /usr/local/lib/python3.10/dist-packages (from spacy<3.8.0,>=3.7.2->en-core-web-lg==3.7.1) (2.9.1)\n",
            "Requirement already satisfied: jinja2 in /usr/local/lib/python3.10/dist-packages (from spacy<3.8.0,>=3.7.2->en-core-web-lg==3.7.1) (3.1.4)\n",
            "Requirement already satisfied: setuptools in /usr/local/lib/python3.10/dist-packages (from spacy<3.8.0,>=3.7.2->en-core-web-lg==3.7.1) (71.0.4)\n",
            "Requirement already satisfied: packaging>=20.0 in /usr/local/lib/python3.10/dist-packages (from spacy<3.8.0,>=3.7.2->en-core-web-lg==3.7.1) (24.1)\n",
            "Requirement already satisfied: langcodes<4.0.0,>=3.2.0 in /usr/local/lib/python3.10/dist-packages (from spacy<3.8.0,>=3.7.2->en-core-web-lg==3.7.1) (3.4.0)\n",
            "Requirement already satisfied: numpy>=1.19.0 in /usr/local/lib/python3.10/dist-packages (from spacy<3.8.0,>=3.7.2->en-core-web-lg==3.7.1) (1.26.4)\n",
            "Requirement already satisfied: language-data>=1.2 in /usr/local/lib/python3.10/dist-packages (from langcodes<4.0.0,>=3.2.0->spacy<3.8.0,>=3.7.2->en-core-web-lg==3.7.1) (1.2.0)\n",
            "Requirement already satisfied: annotated-types>=0.6.0 in /usr/local/lib/python3.10/dist-packages (from pydantic!=1.8,!=1.8.1,<3.0.0,>=1.7.4->spacy<3.8.0,>=3.7.2->en-core-web-lg==3.7.1) (0.7.0)\n",
            "Requirement already satisfied: pydantic-core==2.23.3 in /usr/local/lib/python3.10/dist-packages (from pydantic!=1.8,!=1.8.1,<3.0.0,>=1.7.4->spacy<3.8.0,>=3.7.2->en-core-web-lg==3.7.1) (2.23.3)\n",
            "Requirement already satisfied: typing-extensions>=4.6.1 in /usr/local/lib/python3.10/dist-packages (from pydantic!=1.8,!=1.8.1,<3.0.0,>=1.7.4->spacy<3.8.0,>=3.7.2->en-core-web-lg==3.7.1) (4.12.2)\n",
            "Requirement already satisfied: charset-normalizer<4,>=2 in /usr/local/lib/python3.10/dist-packages (from requests<3.0.0,>=2.13.0->spacy<3.8.0,>=3.7.2->en-core-web-lg==3.7.1) (3.3.2)\n",
            "Requirement already satisfied: idna<4,>=2.5 in /usr/local/lib/python3.10/dist-packages (from requests<3.0.0,>=2.13.0->spacy<3.8.0,>=3.7.2->en-core-web-lg==3.7.1) (3.8)\n",
            "Requirement already satisfied: urllib3<3,>=1.21.1 in /usr/local/lib/python3.10/dist-packages (from requests<3.0.0,>=2.13.0->spacy<3.8.0,>=3.7.2->en-core-web-lg==3.7.1) (2.0.7)\n",
            "Requirement already satisfied: certifi>=2017.4.17 in /usr/local/lib/python3.10/dist-packages (from requests<3.0.0,>=2.13.0->spacy<3.8.0,>=3.7.2->en-core-web-lg==3.7.1) (2024.8.30)\n",
            "Requirement already satisfied: blis<0.8.0,>=0.7.8 in /usr/local/lib/python3.10/dist-packages (from thinc<8.3.0,>=8.2.2->spacy<3.8.0,>=3.7.2->en-core-web-lg==3.7.1) (0.7.11)\n",
            "Requirement already satisfied: confection<1.0.0,>=0.0.1 in /usr/local/lib/python3.10/dist-packages (from thinc<8.3.0,>=8.2.2->spacy<3.8.0,>=3.7.2->en-core-web-lg==3.7.1) (0.1.5)\n",
            "Requirement already satisfied: click>=8.0.0 in /usr/local/lib/python3.10/dist-packages (from typer<1.0.0,>=0.3.0->spacy<3.8.0,>=3.7.2->en-core-web-lg==3.7.1) (8.1.7)\n",
            "Requirement already satisfied: shellingham>=1.3.0 in /usr/local/lib/python3.10/dist-packages (from typer<1.0.0,>=0.3.0->spacy<3.8.0,>=3.7.2->en-core-web-lg==3.7.1) (1.5.4)\n",
            "Requirement already satisfied: rich>=10.11.0 in /usr/local/lib/python3.10/dist-packages (from typer<1.0.0,>=0.3.0->spacy<3.8.0,>=3.7.2->en-core-web-lg==3.7.1) (13.8.0)\n",
            "Requirement already satisfied: cloudpathlib<1.0.0,>=0.7.0 in /usr/local/lib/python3.10/dist-packages (from weasel<0.5.0,>=0.1.0->spacy<3.8.0,>=3.7.2->en-core-web-lg==3.7.1) (0.19.0)\n",
            "Requirement already satisfied: smart-open<8.0.0,>=5.2.1 in /usr/local/lib/python3.10/dist-packages (from weasel<0.5.0,>=0.1.0->spacy<3.8.0,>=3.7.2->en-core-web-lg==3.7.1) (7.0.4)\n",
            "Requirement already satisfied: MarkupSafe>=2.0 in /usr/local/lib/python3.10/dist-packages (from jinja2->spacy<3.8.0,>=3.7.2->en-core-web-lg==3.7.1) (2.1.5)\n",
            "Requirement already satisfied: marisa-trie>=0.7.7 in /usr/local/lib/python3.10/dist-packages (from language-data>=1.2->langcodes<4.0.0,>=3.2.0->spacy<3.8.0,>=3.7.2->en-core-web-lg==3.7.1) (1.2.0)\n",
            "Requirement already satisfied: markdown-it-py>=2.2.0 in /usr/local/lib/python3.10/dist-packages (from rich>=10.11.0->typer<1.0.0,>=0.3.0->spacy<3.8.0,>=3.7.2->en-core-web-lg==3.7.1) (3.0.0)\n",
            "Requirement already satisfied: pygments<3.0.0,>=2.13.0 in /usr/local/lib/python3.10/dist-packages (from rich>=10.11.0->typer<1.0.0,>=0.3.0->spacy<3.8.0,>=3.7.2->en-core-web-lg==3.7.1) (2.16.1)\n",
            "Requirement already satisfied: wrapt in /usr/local/lib/python3.10/dist-packages (from smart-open<8.0.0,>=5.2.1->weasel<0.5.0,>=0.1.0->spacy<3.8.0,>=3.7.2->en-core-web-lg==3.7.1) (1.16.0)\n",
            "Requirement already satisfied: mdurl~=0.1 in /usr/local/lib/python3.10/dist-packages (from markdown-it-py>=2.2.0->rich>=10.11.0->typer<1.0.0,>=0.3.0->spacy<3.8.0,>=3.7.2->en-core-web-lg==3.7.1) (0.1.2)\n",
            "\u001b[38;5;2m✔ Download and installation successful\u001b[0m\n",
            "You can now load the package via spacy.load('en_core_web_lg')\n",
            "\u001b[38;5;3m⚠ Restart to reload dependencies\u001b[0m\n",
            "If you are in a Jupyter or Colab notebook, you may need to restart Python in\n",
            "order to load all the package's dependencies. You can do this by selecting the\n",
            "'Restart kernel' or 'Restart runtime' option.\n"
          ]
        }
      ]
    },
    {
      "cell_type": "code",
      "source": [
        "nlp = spacy.load(\"en_core_web_lg\")"
      ],
      "metadata": {
        "collapsed": true,
        "id": "40TGyStuytz0"
      },
      "execution_count": 4,
      "outputs": []
    },
    {
      "cell_type": "code",
      "source": [
        "doc = nlp(\"dog cat banana cake harish gain\")\n",
        "\n",
        "for token in doc:\n",
        "  print(token.text,\"   Has Vector: \", token.has_vector,\"   is oov: \",token.is_oov)"
      ],
      "metadata": {
        "colab": {
          "base_uri": "https://localhost:8080/"
        },
        "id": "BKT8qTjJy0KY",
        "outputId": "ee0bf965-2fd3-4dc0-afb8-54046b0a5fae"
      },
      "execution_count": 19,
      "outputs": [
        {
          "output_type": "stream",
          "name": "stdout",
          "text": [
            "dog    Has Vector:  True    is oov:  False\n",
            "cat    Has Vector:  True    is oov:  False\n",
            "banana    Has Vector:  True    is oov:  False\n",
            "cake    Has Vector:  True    is oov:  False\n",
            "harish    Has Vector:  False    is oov:  True\n",
            "gain    Has Vector:  True    is oov:  False\n"
          ]
        }
      ]
    },
    {
      "cell_type": "code",
      "source": [
        "doc[0].vector.shape"
      ],
      "metadata": {
        "colab": {
          "base_uri": "https://localhost:8080/"
        },
        "collapsed": true,
        "id": "XMlA14UV9nsj",
        "outputId": "ce4af02d-80db-4d7c-d79b-cf7e8fdc2420"
      },
      "execution_count": 20,
      "outputs": [
        {
          "output_type": "execute_result",
          "data": {
            "text/plain": [
              "(300,)"
            ]
          },
          "metadata": {},
          "execution_count": 20
        }
      ]
    },
    {
      "cell_type": "code",
      "source": [
        "base_token = nlp(\"profit\")"
      ],
      "metadata": {
        "id": "ZHu9aJIg9y74"
      },
      "execution_count": 21,
      "outputs": []
    },
    {
      "cell_type": "code",
      "source": [
        "for token in doc:\n",
        "  print(token.text,\"<->\", base_token[0],\"    \",token.similarity(base_token))"
      ],
      "metadata": {
        "colab": {
          "base_uri": "https://localhost:8080/"
        },
        "id": "WIfZJXLx-2yY",
        "outputId": "80f8d0f5-de09-4187-89c3-c59c043ec93f"
      },
      "execution_count": 22,
      "outputs": [
        {
          "output_type": "stream",
          "name": "stdout",
          "text": [
            "dog <-> profit      -0.018581496823770593\n",
            "cat <-> profit      -0.06543691648415374\n",
            "banana <-> profit      0.01023756818858682\n",
            "cake <-> profit      -0.005163960709137692\n",
            "harish <-> profit      0.0\n",
            "gain <-> profit      0.3515840561182718\n"
          ]
        },
        {
          "output_type": "stream",
          "name": "stderr",
          "text": [
            "<ipython-input-22-c9ceecae881b>:2: UserWarning: [W008] Evaluating Token.similarity based on empty vectors.\n",
            "  print(token.text,\"<->\", base_token[0],\"    \",token.similarity(base_token))\n"
          ]
        }
      ]
    },
    {
      "cell_type": "code",
      "source": [
        "def print_similarity(base_word, words_to_compare):\n",
        "  base_token = nlp(base_word)\n",
        "  doc = nlp(words_to_compare)\n",
        "  for token in doc:\n",
        "    print(token.text, \" <<<->>>  \",base_token.text,\"    \", token.similarity(base_token))\n"
      ],
      "metadata": {
        "id": "OVqm-ktn-_bB"
      },
      "execution_count": 36,
      "outputs": []
    },
    {
      "cell_type": "code",
      "source": [
        "print_similarity(\"iphone\", \"today is launch of apple iphone\")"
      ],
      "metadata": {
        "colab": {
          "base_uri": "https://localhost:8080/"
        },
        "id": "ImaaHHn8AfMO",
        "outputId": "34ab41d2-f83a-4399-98b8-b0652c1c29a7"
      },
      "execution_count": 37,
      "outputs": [
        {
          "output_type": "stream",
          "name": "stdout",
          "text": [
            "today  <<<->>>   iphone      0.2542749275714627\n",
            "is  <<<->>>   iphone      0.037364363387766095\n",
            "launch  <<<->>>   iphone      0.21886803400946428\n",
            "of  <<<->>>   iphone      -0.09035158165358388\n",
            "apple  <<<->>>   iphone      0.4387907401919904\n",
            "iphone  <<<->>>   iphone      1.000000072144752\n"
          ]
        }
      ]
    },
    {
      "cell_type": "markdown",
      "source": [],
      "metadata": {
        "id": "7oh6uC4IAyoi"
      }
    },
    {
      "cell_type": "code",
      "source": [
        "print(nlp.vocab['king'].vector)"
      ],
      "metadata": {
        "colab": {
          "base_uri": "https://localhost:8080/"
        },
        "id": "4mWipciEAl_h",
        "outputId": "3c60d644-930f-4da7-e3b9-6f7dff33820a"
      },
      "execution_count": 39,
      "outputs": [
        {
          "output_type": "stream",
          "name": "stdout",
          "text": [
            "[-1.1296e-01 -4.1865e+00 -1.8453e+00  3.0781e-01  2.4956e+00  9.6267e-01\n",
            " -1.8161e+00  4.4655e+00 -2.8210e+00  9.7090e-01  1.3542e+01  4.3195e-01\n",
            " -5.3098e+00  4.7098e+00  2.9030e+00  1.5588e+00  6.0064e+00 -3.0345e+00\n",
            "  1.0626e+00 -7.7197e-01 -5.4771e+00 -9.7380e-01 -4.4345e+00  5.8367e+00\n",
            "  2.4302e+00 -3.9408e+00 -9.1862e-01 -4.9124e+00  1.4591e+00 -7.2772e-01\n",
            "  3.4957e+00 -4.0077e+00 -1.8354e+00 -4.1052e+00  4.9211e+00 -9.7053e-01\n",
            "  1.9223e+00  5.2605e+00  1.6086e+00  7.1328e-01 -1.2146e+00 -1.9869e+00\n",
            "  8.0265e-01  2.9298e+00  7.2985e-01 -6.2892e-01 -1.7082e+00  1.9893e+00\n",
            "  4.7529e-01  3.2264e+00 -3.9215e+00  4.6556e+00  1.3475e+00 -1.0979e+00\n",
            " -3.0365e+00  1.5815e+00  2.2835e+00 -4.0616e+00  2.5730e+00  4.0618e+00\n",
            "  9.5438e-01 -6.2563e+00  5.6463e+00 -3.8933e+00  4.4076e+00  2.0517e+00\n",
            " -6.6906e+00 -6.9448e+00  6.0371e+00  9.3081e-01  1.5180e+00  2.3974e+00\n",
            " -3.8043e+00 -4.3941e+00 -3.6979e+00  2.9489e+00 -8.9735e+00  9.5273e+00\n",
            " -6.4149e-01  2.2565e+00 -7.2062e+00 -1.0078e+00 -4.4381e+00  2.0424e+00\n",
            " -6.6736e-01  4.3500e+00 -1.6199e+00  3.1975e+00 -1.2065e+00 -6.5684e-01\n",
            "  7.5759e-01 -1.6033e+00  2.5450e+00 -5.4999e+00 -1.8909e+00 -1.2985e-02\n",
            "  2.6703e+00  5.4623e-01 -2.4504e+00 -4.4326e-01 -1.7250e+00  9.1585e-01\n",
            "  7.5243e+00 -5.8451e-01  3.4550e+00  3.4817e+00 -4.1599e+00 -5.5125e-01\n",
            "  2.7681e-02 -3.1687e+00 -4.8459e+00  7.9108e+00 -1.7062e+00 -2.6731e+00\n",
            "  9.7841e+00  3.8851e+00 -3.7930e+00 -5.2979e-01  6.6191e-01 -9.7232e-01\n",
            " -9.4692e-01 -4.4918e+00  1.0932e+00 -4.3751e+00  1.3182e-02 -1.0243e+01\n",
            "  4.7973e+00 -8.7426e+00  2.5479e+00  2.3454e+00 -6.4140e+00  7.3875e-01\n",
            "  5.8565e+00 -2.5964e-01  1.6558e+00 -3.1353e+00 -6.6752e+00  1.0550e+00\n",
            "  1.7017e+00 -3.8360e+00 -1.1980e+01 -1.3750e+00 -1.9261e+00  3.1267e+00\n",
            "  3.2874e+00 -2.8928e+00 -1.0893e+01  4.2848e+00 -4.0890e-02 -5.9565e-01\n",
            " -3.3473e-02  1.6832e+00  2.1454e-01  7.2849e+00  2.8116e+00  2.5708e+00\n",
            " -3.9823e-01 -1.7257e+00 -6.1063e+00 -4.2618e+00 -3.3886e+00 -9.2663e+00\n",
            "  1.7600e-01 -3.3873e-02 -3.7070e+00 -9.1995e+00 -7.1594e+00 -6.0189e-01\n",
            " -7.2560e-01  1.5342e+00  5.1083e+00  2.4373e+00 -3.8012e+00 -2.1752e-01\n",
            "  2.9503e+00 -2.5551e+00  4.9827e-01  8.6823e-01 -4.3449e+00 -4.3821e+00\n",
            "  3.4993e+00 -1.9518e+00  2.2036e+00 -6.6526e-01  7.1015e+00  3.6784e+00\n",
            "  2.6251e-01  1.5379e+00 -8.1950e-01  1.1065e+00  3.3167e+00 -5.9392e+00\n",
            " -4.0191e+00  2.6496e+00  2.3168e+00 -8.5681e-02 -3.5059e+00  1.5915e+00\n",
            " -3.1831e-01  6.9366e+00  3.8439e+00  9.4076e-01 -7.5424e+00  2.7847e+00\n",
            " -2.2814e+00 -4.2487e+00 -2.6604e-01  3.7954e+00 -3.6526e+00  4.3823e+00\n",
            " -2.6506e+00  3.5298e+00  2.2597e+00  6.3055e+00 -7.0194e-01  4.1565e+00\n",
            "  8.2306e+00  5.7675e-01  4.3596e-01 -8.8400e+00 -3.0249e+00  4.0032e+00\n",
            "  2.4232e+00  6.9885e+00 -2.5906e-01 -4.2059e+00  1.2643e+00  1.0110e+01\n",
            "  9.7016e-01  2.2963e+00 -1.2802e+00 -1.4447e+00 -3.4386e+00  5.6555e+00\n",
            "  3.3911e+00  6.9418e+00 -6.8705e+00 -8.1536e-01 -7.2334e+00  3.0509e+00\n",
            "  8.7676e-01  6.4216e+00 -3.1655e+00 -1.5308e+00 -1.1056e+00 -5.0426e+00\n",
            "  4.6801e+00  4.6812e+00  4.0401e+00 -3.7289e-01  6.7437e-01 -8.6660e+00\n",
            " -9.9656e+00  2.4979e+00 -1.4783e-01 -5.6301e+00  4.5542e+00  4.8165e+00\n",
            " -2.2055e-01  4.5169e+00  1.7496e+00  2.9019e-01 -1.1683e+00 -4.3981e-01\n",
            "  2.3469e+00 -4.3521e-02  6.3715e-01  5.8259e-01 -8.5701e+00  4.6419e+00\n",
            "  2.3809e+00 -1.9273e-01 -6.9772e+00  7.6172e-01 -6.3895e-01 -3.3769e+00\n",
            "  6.1265e+00 -1.9695e+00 -2.3404e+00  6.6789e+00 -3.5265e+00 -3.3883e+00\n",
            "  6.1372e+00  4.5550e+00  6.0957e+00 -2.2007e-01  6.2087e-01  2.5527e+00\n",
            " -4.5590e+00 -2.8429e+00  2.0645e+00 -1.6221e+00 -2.8171e+00 -2.9680e+00\n",
            "  1.3651e+00  3.6137e+00 -3.2096e-01 -1.9346e+00 -4.8738e+00  2.5565e+00]\n"
          ]
        }
      ]
    },
    {
      "cell_type": "code",
      "source": [],
      "metadata": {
        "id": "7YXyDYfkC-PO"
      },
      "execution_count": null,
      "outputs": []
    }
  ]
}